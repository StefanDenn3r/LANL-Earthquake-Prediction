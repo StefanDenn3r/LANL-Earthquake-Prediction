{
  "nbformat": 4,
  "nbformat_minor": 0,
  "metadata": {
    "colab": {
      "name": "kernel.ipynb",
      "version": "0.3.2",
      "provenance": [],
      "toc_visible": true,
      "include_colab_link": true
    },
    "kernelspec": {
      "name": "python3",
      "display_name": "Python 3"
    },
    "accelerator": "GPU"
  },
  "cells": [
    {
      "cell_type": "markdown",
      "metadata": {
        "id": "view-in-github",
        "colab_type": "text"
      },
      "source": [
        "<a href=\"https://colab.research.google.com/github/StefanDenn3r/LANL-Earthquake-Prediction/blob/master/kernel.ipynb\" target=\"_parent\"><img src=\"https://colab.research.google.com/assets/colab-badge.svg\" alt=\"Open In Colab\"/></a>"
      ]
    },
    {
      "metadata": {
        "_uuid": "3b7efa15014e822ca40ee55d2e7e712a6ca63563",
        "id": "gPkVHHonpfSi",
        "colab_type": "text"
      },
      "cell_type": "markdown",
      "source": [
        "<h1><center><font size=\"6\">LANL Earthquake EDA and Prediction</font></center></h1>\n",
        "\n",
        "<h2><center><font size=\"4\">Dataset used: LANL Earthquake Prediction</font></center></h2>\n",
        "\n",
        "<img src=\"https://storage.googleapis.com/kaggle-media/competitions/LANL/nik-shuliahin-585307-unsplash.jpg\" width=\"600\"></img>\n",
        "\n",
        "<br>\n",
        "\n",
        "# <a id='0'>Content</a>\n",
        "\n",
        "- <a href='#1'>Introduction</a>  \n",
        "- <a href='#2'>Prepare the data analysis</a>  \n",
        "- <a href='#3'>Data exploration</a>   \n",
        "- <a href='#4'>Feature engineering</a>\n",
        "- <a href='#5'>Model</a>\n",
        "- <a href='#6'>Submission</a>  \n",
        "- <a href='#7'>References</a>"
      ]
    },
    {
      "metadata": {
        "_uuid": "0bf2c2c00334bdc9f8f3d78d10d958bc521b4c7a",
        "id": "JNROJg1qpfSj",
        "colab_type": "text"
      },
      "cell_type": "markdown",
      "source": [
        "# <a id='1'>Introduction</a>  \n",
        "\n",
        "## Simulated earthquake experiment\n",
        "\n",
        "The data are from an experiment conducted on rock in a double direct shear geometry subjected to bi-axial loading, a classic laboratory earthquake model.\n",
        "\n",
        "Two fault gouge layers are sheared simultaneously while subjected to a constant normal load and a prescribed shear velocity. The laboratory faults fail in repetitive cycles of stick and slip that is meant to mimic the cycle of loading and failure on tectonic faults. While the experiment is considerably simpler than a fault in Earth, it shares many physical characteristics. \n",
        "\n",
        "Los Alamos' initial work showed that the prediction of laboratory earthquakes from continuous seismic data is possible in the case of quasi-periodic laboratory seismic cycles.   \n",
        "\n",
        "## Competition \n",
        "\n",
        "In this competition, the team has provided a much more challenging dataset with considerably more aperiodic earthquake failures.  \n",
        "Objective of the competition is to predict the failures for each test set.  \n",
        "\n"
      ]
    },
    {
      "metadata": {
        "_uuid": "3b198f4c2141e0e94e0853cea5798c0e83343716",
        "id": "hxJUtptPpfSj",
        "colab_type": "text"
      },
      "cell_type": "markdown",
      "source": [
        "# <a id='1'>Preparation</a>\n",
        "\n",
        "## Load packages\n",
        "\n",
        "Here we define the packages for data manipulation, feature engineering and model training."
      ]
    },
    {
      "metadata": {
        "_uuid": "8f2839f25d086af736a60e9eeb907d3b93b6e0e5",
        "_cell_guid": "b1076dfc-b9ad-4769-8c92-a6c4dae69d19",
        "trusted": true,
        "_kg_hide-input": true,
        "id": "AgKGUAqvpfSk",
        "colab_type": "code",
        "outputId": "14444139-46f0-4f39-b852-143a9de9aaa5",
        "colab": {
          "base_uri": "https://localhost:8080/",
          "height": 816
        }
      },
      "cell_type": "code",
      "source": [
        "!pip install catboost\n",
        "!pip install kaggle\n",
        "!pip install tf-nightly-gpu-2.0-preview\n",
        "!pip install tensorboard\n",
        "\n",
        "\n",
        "\n",
        "import gc\n",
        "import os\n",
        "import time\n",
        "import glob\n",
        "import logging\n",
        "import datetime\n",
        "import warnings\n",
        "import numpy as np\n",
        "import pandas as pd\n",
        "import seaborn as sns\n",
        "import xgboost as xgb\n",
        "import lightgbm as lgb\n",
        "from pathlib import Path\n",
        "from zipfile import ZipFile\n",
        "from scipy import stats\n",
        "from scipy.signal import hann\n",
        "from tqdm import tqdm_notebook\n",
        "from keras import backend as K\n",
        "from tensorflow.python.client import device_lib\n",
        "import matplotlib.pyplot as plt\n",
        "from scipy.signal import hilbert\n",
        "from scipy.signal import convolve\n",
        "from sklearn.svm import NuSVR, SVR\n",
        "from catboost import CatBoostRegressor\n",
        "from sklearn.kernel_ridge import KernelRidge\n",
        "from sklearn.metrics import mean_squared_error\n",
        "from sklearn.preprocessing import LabelEncoder\n",
        "from sklearn.metrics import mean_absolute_error\n",
        "from sklearn.preprocessing import StandardScaler\n",
        "from sklearn.linear_model import LinearRegression\n",
        "from sklearn.model_selection import KFold,StratifiedKFold, RepeatedKFold\n",
        "from googleapiclient.discovery import build\n",
        "import io, os\n",
        "from googleapiclient.http import MediaIoBaseDownload\n",
        "from google.colab import auth\n",
        "import tensorflow as tf\n",
        "\n",
        "\n",
        "warnings.filterwarnings(\"ignore\")"
      ],
      "execution_count": 46,
      "outputs": [
        {
          "output_type": "stream",
          "text": [
            "Requirement already satisfied: catboost in /usr/local/lib/python3.6/dist-packages (0.13.1)\n",
            "Requirement already satisfied: pandas>=0.19.1 in /usr/local/lib/python3.6/dist-packages (from catboost) (0.22.0)\n",
            "Requirement already satisfied: six in /usr/local/lib/python3.6/dist-packages (from catboost) (1.11.0)\n",
            "Requirement already satisfied: enum34 in /usr/local/lib/python3.6/dist-packages (from catboost) (1.1.6)\n",
            "Requirement already satisfied: numpy>=1.11.1 in /usr/local/lib/python3.6/dist-packages (from catboost) (1.14.6)\n",
            "Requirement already satisfied: pytz>=2011k in /usr/local/lib/python3.6/dist-packages (from pandas>=0.19.1->catboost) (2018.9)\n",
            "Requirement already satisfied: python-dateutil>=2 in /usr/local/lib/python3.6/dist-packages (from pandas>=0.19.1->catboost) (2.5.3)\n",
            "Requirement already satisfied: kaggle in /usr/local/lib/python3.6/dist-packages (1.5.3)\n",
            "Requirement already satisfied: urllib3<1.25,>=1.21.1 in /usr/local/lib/python3.6/dist-packages (from kaggle) (1.22)\n",
            "Requirement already satisfied: six>=1.10 in /usr/local/lib/python3.6/dist-packages (from kaggle) (1.11.0)\n",
            "Requirement already satisfied: certifi in /usr/local/lib/python3.6/dist-packages (from kaggle) (2019.3.9)\n",
            "Requirement already satisfied: python-dateutil in /usr/local/lib/python3.6/dist-packages (from kaggle) (2.5.3)\n",
            "Requirement already satisfied: requests in /usr/local/lib/python3.6/dist-packages (from kaggle) (2.18.4)\n",
            "Requirement already satisfied: tqdm in /usr/local/lib/python3.6/dist-packages (from kaggle) (4.28.1)\n",
            "Requirement already satisfied: python-slugify in /usr/local/lib/python3.6/dist-packages (from kaggle) (3.0.0)\n",
            "Requirement already satisfied: idna<2.7,>=2.5 in /usr/local/lib/python3.6/dist-packages (from requests->kaggle) (2.6)\n",
            "Requirement already satisfied: chardet<3.1.0,>=3.0.2 in /usr/local/lib/python3.6/dist-packages (from requests->kaggle) (3.0.4)\n",
            "Requirement already satisfied: text-unidecode==1.2 in /usr/local/lib/python3.6/dist-packages (from python-slugify->kaggle) (1.2)\n",
            "Requirement already satisfied: tf-nightly-gpu-2.0-preview in /usr/local/lib/python3.6/dist-packages (2.0.0.dev20190319)\n",
            "Requirement already satisfied: numpy<2.0,>=1.14.5 in /usr/local/lib/python3.6/dist-packages (from tf-nightly-gpu-2.0-preview) (1.14.6)\n",
            "Requirement already satisfied: google-pasta>=0.1.2 in /usr/local/lib/python3.6/dist-packages (from tf-nightly-gpu-2.0-preview) (0.1.4)\n",
            "Requirement already satisfied: keras-preprocessing>=1.0.5 in /usr/local/lib/python3.6/dist-packages (from tf-nightly-gpu-2.0-preview) (1.0.9)\n",
            "Requirement already satisfied: termcolor>=1.1.0 in /usr/local/lib/python3.6/dist-packages (from tf-nightly-gpu-2.0-preview) (1.1.0)\n",
            "Requirement already satisfied: protobuf>=3.6.1 in /usr/local/lib/python3.6/dist-packages (from tf-nightly-gpu-2.0-preview) (3.7.0)\n",
            "Requirement already satisfied: tb-nightly<1.15.0a0,>=1.14.0a0 in /usr/local/lib/python3.6/dist-packages (from tf-nightly-gpu-2.0-preview) (1.14.0a20190319)\n",
            "Requirement already satisfied: astor>=0.6.0 in /usr/local/lib/python3.6/dist-packages (from tf-nightly-gpu-2.0-preview) (0.7.1)\n",
            "Requirement already satisfied: tensorflow-estimator-2.0-preview in /usr/local/lib/python3.6/dist-packages (from tf-nightly-gpu-2.0-preview) (1.14.0.dev2019032000)\n",
            "Requirement already satisfied: keras-applications>=1.0.6 in /usr/local/lib/python3.6/dist-packages (from tf-nightly-gpu-2.0-preview) (1.0.7)\n",
            "Requirement already satisfied: grpcio>=1.8.6 in /usr/local/lib/python3.6/dist-packages (from tf-nightly-gpu-2.0-preview) (1.15.0)\n",
            "Requirement already satisfied: wheel>=0.26 in /usr/local/lib/python3.6/dist-packages (from tf-nightly-gpu-2.0-preview) (0.33.1)\n",
            "Requirement already satisfied: six>=1.10.0 in /usr/local/lib/python3.6/dist-packages (from tf-nightly-gpu-2.0-preview) (1.11.0)\n",
            "Requirement already satisfied: gast>=0.2.0 in /usr/local/lib/python3.6/dist-packages (from tf-nightly-gpu-2.0-preview) (0.2.2)\n",
            "Requirement already satisfied: absl-py>=0.7.0 in /usr/local/lib/python3.6/dist-packages (from tf-nightly-gpu-2.0-preview) (0.7.1)\n",
            "Requirement already satisfied: setuptools in /usr/local/lib/python3.6/dist-packages (from protobuf>=3.6.1->tf-nightly-gpu-2.0-preview) (40.8.0)\n",
            "Requirement already satisfied: werkzeug>=0.11.15 in /usr/local/lib/python3.6/dist-packages (from tb-nightly<1.15.0a0,>=1.14.0a0->tf-nightly-gpu-2.0-preview) (0.14.1)\n",
            "Requirement already satisfied: markdown>=2.6.8 in /usr/local/lib/python3.6/dist-packages (from tb-nightly<1.15.0a0,>=1.14.0a0->tf-nightly-gpu-2.0-preview) (3.0.1)\n",
            "Requirement already satisfied: h5py in /usr/local/lib/python3.6/dist-packages (from keras-applications>=1.0.6->tf-nightly-gpu-2.0-preview) (2.8.0)\n",
            "Requirement already satisfied: tensorboard in /usr/local/lib/python3.6/dist-packages (1.13.1)\n",
            "Requirement already satisfied: numpy>=1.12.0 in /usr/local/lib/python3.6/dist-packages (from tensorboard) (1.14.6)\n",
            "Requirement already satisfied: protobuf>=3.6.0 in /usr/local/lib/python3.6/dist-packages (from tensorboard) (3.7.0)\n",
            "Requirement already satisfied: markdown>=2.6.8 in /usr/local/lib/python3.6/dist-packages (from tensorboard) (3.0.1)\n",
            "Requirement already satisfied: wheel>=0.26; python_version >= \"3\" in /usr/local/lib/python3.6/dist-packages (from tensorboard) (0.33.1)\n",
            "Requirement already satisfied: absl-py>=0.4 in /usr/local/lib/python3.6/dist-packages (from tensorboard) (0.7.1)\n",
            "Requirement already satisfied: six>=1.10.0 in /usr/local/lib/python3.6/dist-packages (from tensorboard) (1.11.0)\n",
            "Requirement already satisfied: werkzeug>=0.11.15 in /usr/local/lib/python3.6/dist-packages (from tensorboard) (0.14.1)\n",
            "Requirement already satisfied: grpcio>=1.6.3 in /usr/local/lib/python3.6/dist-packages (from tensorboard) (1.15.0)\n",
            "Requirement already satisfied: setuptools in /usr/local/lib/python3.6/dist-packages (from protobuf>=3.6.0->tensorboard) (40.8.0)\n"
          ],
          "name": "stdout"
        }
      ]
    },
    {
      "metadata": {
        "id": "cpOx11KmM7nE",
        "colab_type": "text"
      },
      "cell_type": "markdown",
      "source": [
        "Connect to Google Drive for accessing kaggle.json file for using kaggle-API."
      ]
    },
    {
      "metadata": {
        "id": "H6HyTgZyNGOi",
        "colab_type": "code",
        "outputId": "719b8cd2-5f06-462b-ca67-e6ecf5a2377d",
        "colab": {
          "base_uri": "https://localhost:8080/",
          "height": 547
        }
      },
      "cell_type": "code",
      "source": [
        "auth.authenticate_user()\n",
        "drive_service = build('drive', 'v3')\n",
        "results = drive_service.files().list(\n",
        "        q=\"name = 'kaggle.json'\", fields=\"files(id)\").execute()\n",
        "kaggle_api_key = results.get('files', [])\n",
        "filename = \"/root/.kaggle/kaggle.json\"\n",
        "os.makedirs(os.path.dirname(filename), exist_ok=True)\n",
        "request = drive_service.files().get_media(fileId=kaggle_api_key[0]['id'])\n",
        "fh = io.FileIO(filename, 'wb')\n",
        "downloader = MediaIoBaseDownload(fh, request)\n",
        "done = False\n",
        "while done is False:\n",
        "    status, done = downloader.next_chunk()\n",
        "    print(\"Download %d%%.\" % int(status.progress() * 100))\n",
        "os.chmod(filename, 600)"
      ],
      "execution_count": 47,
      "outputs": [
        {
          "output_type": "stream",
          "text": [
            "W0320 22:19:31.775918 139761960740736 __init__.py:44] file_cache is unavailable when using oauth2client >= 4.0.0\n",
            "Traceback (most recent call last):\n",
            "  File \"/usr/local/lib/python3.6/dist-packages/googleapiclient/discovery_cache/__init__.py\", line 36, in autodetect\n",
            "    from google.appengine.api import memcache\n",
            "ModuleNotFoundError: No module named 'google.appengine'\n",
            "\n",
            "During handling of the above exception, another exception occurred:\n",
            "\n",
            "Traceback (most recent call last):\n",
            "  File \"/usr/local/lib/python3.6/dist-packages/googleapiclient/discovery_cache/file_cache.py\", line 33, in <module>\n",
            "    from oauth2client.contrib.locked_file import LockedFile\n",
            "ModuleNotFoundError: No module named 'oauth2client.contrib.locked_file'\n",
            "\n",
            "During handling of the above exception, another exception occurred:\n",
            "\n",
            "Traceback (most recent call last):\n",
            "  File \"/usr/local/lib/python3.6/dist-packages/googleapiclient/discovery_cache/file_cache.py\", line 37, in <module>\n",
            "    from oauth2client.locked_file import LockedFile\n",
            "ModuleNotFoundError: No module named 'oauth2client.locked_file'\n",
            "\n",
            "During handling of the above exception, another exception occurred:\n",
            "\n",
            "Traceback (most recent call last):\n",
            "  File \"/usr/local/lib/python3.6/dist-packages/googleapiclient/discovery_cache/__init__.py\", line 41, in autodetect\n",
            "    from . import file_cache\n",
            "  File \"/usr/local/lib/python3.6/dist-packages/googleapiclient/discovery_cache/file_cache.py\", line 41, in <module>\n",
            "    'file_cache is unavailable when using oauth2client >= 4.0.0')\n",
            "ImportError: file_cache is unavailable when using oauth2client >= 4.0.0\n",
            "W0320 22:19:31.795494 139761960740736 _default.py:280] No project ID could be determined. Consider running `gcloud config set project` or setting the GOOGLE_CLOUD_PROJECT environment variable\n"
          ],
          "name": "stderr"
        },
        {
          "output_type": "stream",
          "text": [
            "Download 100%.\n"
          ],
          "name": "stdout"
        }
      ]
    },
    {
      "metadata": {
        "colab_type": "code",
        "id": "LNUAhp6ppL6N",
        "colab": {
          "base_uri": "https://localhost:8080/",
          "height": 51
        },
        "outputId": "2c4d7d80-8036-4c89-c31c-95581f7d663a"
      },
      "cell_type": "code",
      "source": [
        "# Load the TensorBoard notebook extension\n",
        "%load_ext tensorboard.notebook "
      ],
      "execution_count": 48,
      "outputs": [
        {
          "output_type": "stream",
          "text": [
            "The tensorboard.notebook extension is already loaded. To reload it, use:\n",
            "  %reload_ext tensorboard.notebook\n"
          ],
          "name": "stdout"
        }
      ]
    },
    {
      "metadata": {
        "_uuid": "f7dc473a43cbd799a184ca71a27391bb6faa9984",
        "id": "0u9TVMclpfSn",
        "colab_type": "text"
      },
      "cell_type": "markdown",
      "source": [
        "## Load the data\n",
        "\n",
        "Load data via kaggle api and afterwards unzip.\n"
      ]
    },
    {
      "metadata": {
        "id": "otK9Sc0gWNPg",
        "colab_type": "code",
        "outputId": "271b2718-52ac-4bbc-8835-658d126b61d3",
        "colab": {
          "base_uri": "https://localhost:8080/",
          "height": 102
        }
      },
      "cell_type": "code",
      "source": [
        "%%time\n",
        "\n",
        "!kaggle competitions download -c LANL-Earthquake-Prediction -p /content/input\n",
        "ROOT = '/content/input/'\n",
        "\n",
        "if not os.path.exists(os.path.join(ROOT, \"test/\")):\n",
        "  zip_file = ZipFile(os.path.join(ROOT,\"test.zip\"))\n",
        "  zip_file.extractall(os.path.join(ROOT,\"test/\"))\n",
        "  zip_file.close()\n",
        "  \n",
        "if not os.path.exists(os.path.join(ROOT,\"train/\")):\n",
        "  zip_file = ZipFile(os.path.join(ROOT,\"train.csv.zip\"))\n",
        "  zip_file.extractall(os.path.join(ROOT,\"train/\"))\n",
        "  zip_file.close()\n",
        "  \n",
        "if not os.path.exists('/content/models'): os.makedirs('/content/models')"
      ],
      "execution_count": 49,
      "outputs": [
        {
          "output_type": "stream",
          "text": [
            "sample_submission.csv: Skipping, found more recently modified local copy (use --force to force download)\n",
            "test.zip: Skipping, found more recently modified local copy (use --force to force download)\n",
            "train.csv.zip: Skipping, found more recently modified local copy (use --force to force download)\n",
            "CPU times: user 29.8 ms, sys: 37.1 ms, total: 66.9 ms\n",
            "Wall time: 2.51 s\n"
          ],
          "name": "stdout"
        }
      ]
    },
    {
      "metadata": {
        "_kg_hide-input": true,
        "trusted": true,
        "_uuid": "bb8916c762c26e98e31a721e4aae673aa12e6c5f",
        "id": "ZbIvsAF4pfSu",
        "colab_type": "code",
        "outputId": "f6c433df-7081-4e99-8426-d38b2683a595",
        "colab": {
          "base_uri": "https://localhost:8080/",
          "height": 51
        }
      },
      "cell_type": "code",
      "source": [
        "%%time\n",
        "if not os.path.exists(os.path.join(ROOT,\"train/train_df\")):\n",
        "  train_df = pd.read_csv(os.path.join(ROOT,'train/train.csv'), dtype={'acoustic_data': np.int32, 'time_to_failure': np.float32})\n",
        "  train_df.to_pickle(os.path.join(ROOT, \"train/train_df\"))\n",
        "else: \n",
        "  train_df = pd.read_pickle(os.path.join(ROOT, \"train/train_df\"))"
      ],
      "execution_count": 50,
      "outputs": [
        {
          "output_type": "stream",
          "text": [
            "CPU times: user 2min 33s, sys: 24.2 s, total: 2min 57s\n",
            "Wall time: 3min 10s\n"
          ],
          "name": "stdout"
        }
      ]
    },
    {
      "metadata": {
        "_cell_guid": "79c7e3d0-c299-4dcb-8224-4455121ee9b0",
        "collapsed": true,
        "_uuid": "d629ff2d2480ee46fbb7e2d37f6b5fab8052498a",
        "trusted": false,
        "id": "NFkJSV3BpfSw",
        "colab_type": "text"
      },
      "cell_type": "markdown",
      "source": [
        "Let's check the data imported."
      ]
    },
    {
      "metadata": {
        "_kg_hide-input": true,
        "trusted": true,
        "_uuid": "40c15befb5782fe1d671ae4ad0ca592aff316073",
        "id": "J-v9VQORpfSx",
        "colab_type": "code",
        "outputId": "8e21c916-21e1-4ad7-a37f-e77a40140adf",
        "colab": {
          "base_uri": "https://localhost:8080/",
          "height": 34
        }
      },
      "cell_type": "code",
      "source": [
        "print(\"Train: rows:{} cols:{}\".format(train_df.shape[0], train_df.shape[1]))"
      ],
      "execution_count": 51,
      "outputs": [
        {
          "output_type": "stream",
          "text": [
            "Train: rows:629145480 cols:2\n"
          ],
          "name": "stdout"
        }
      ]
    },
    {
      "metadata": {
        "_kg_hide-input": true,
        "trusted": true,
        "_uuid": "0ee349f0d7f482a0cc4827a3b7515a915e4dd37f",
        "id": "j1yCv6VhpfSz",
        "colab_type": "code",
        "outputId": "88b77a7a-06a6-48c5-a3d5-ab2bac991976",
        "colab": {
          "base_uri": "https://localhost:8080/",
          "height": 359
        }
      },
      "cell_type": "code",
      "source": [
        "pd.options.display.precision = 15\n",
        "train_df.head(10)"
      ],
      "execution_count": 52,
      "outputs": [
        {
          "output_type": "execute_result",
          "data": {
            "text/html": [
              "<div>\n",
              "<style scoped>\n",
              "    .dataframe tbody tr th:only-of-type {\n",
              "        vertical-align: middle;\n",
              "    }\n",
              "\n",
              "    .dataframe tbody tr th {\n",
              "        vertical-align: top;\n",
              "    }\n",
              "\n",
              "    .dataframe thead th {\n",
              "        text-align: right;\n",
              "    }\n",
              "</style>\n",
              "<table border=\"1\" class=\"dataframe\">\n",
              "  <thead>\n",
              "    <tr style=\"text-align: right;\">\n",
              "      <th></th>\n",
              "      <th>acoustic_data</th>\n",
              "      <th>time_to_failure</th>\n",
              "    </tr>\n",
              "  </thead>\n",
              "  <tbody>\n",
              "    <tr>\n",
              "      <th>0</th>\n",
              "      <td>12</td>\n",
              "      <td>1.469099998474121</td>\n",
              "    </tr>\n",
              "    <tr>\n",
              "      <th>1</th>\n",
              "      <td>6</td>\n",
              "      <td>1.469099998474121</td>\n",
              "    </tr>\n",
              "    <tr>\n",
              "      <th>2</th>\n",
              "      <td>8</td>\n",
              "      <td>1.469099998474121</td>\n",
              "    </tr>\n",
              "    <tr>\n",
              "      <th>3</th>\n",
              "      <td>5</td>\n",
              "      <td>1.469099998474121</td>\n",
              "    </tr>\n",
              "    <tr>\n",
              "      <th>4</th>\n",
              "      <td>8</td>\n",
              "      <td>1.469099998474121</td>\n",
              "    </tr>\n",
              "    <tr>\n",
              "      <th>5</th>\n",
              "      <td>8</td>\n",
              "      <td>1.469099998474121</td>\n",
              "    </tr>\n",
              "    <tr>\n",
              "      <th>6</th>\n",
              "      <td>9</td>\n",
              "      <td>1.469099998474121</td>\n",
              "    </tr>\n",
              "    <tr>\n",
              "      <th>7</th>\n",
              "      <td>7</td>\n",
              "      <td>1.469099998474121</td>\n",
              "    </tr>\n",
              "    <tr>\n",
              "      <th>8</th>\n",
              "      <td>-5</td>\n",
              "      <td>1.469099998474121</td>\n",
              "    </tr>\n",
              "    <tr>\n",
              "      <th>9</th>\n",
              "      <td>3</td>\n",
              "      <td>1.469099998474121</td>\n",
              "    </tr>\n",
              "  </tbody>\n",
              "</table>\n",
              "</div>"
            ],
            "text/plain": [
              "   acoustic_data    time_to_failure\n",
              "0             12  1.469099998474121\n",
              "1              6  1.469099998474121\n",
              "2              8  1.469099998474121\n",
              "3              5  1.469099998474121\n",
              "4              8  1.469099998474121\n",
              "5              8  1.469099998474121\n",
              "6              9  1.469099998474121\n",
              "7              7  1.469099998474121\n",
              "8             -5  1.469099998474121\n",
              "9              3  1.469099998474121"
            ]
          },
          "metadata": {
            "tags": []
          },
          "execution_count": 52
        }
      ]
    },
    {
      "metadata": {
        "_uuid": "877ce7e2c62dc0c7b9a86c081754a7f3b19bb364",
        "id": "uiQErBy9pfS1",
        "colab_type": "text"
      },
      "cell_type": "markdown",
      "source": [
        "# <a id='3'>Data exploration</a>  \n",
        "\n",
        "The dimmension of the data is quite large, in excess of 600 millions rows of data.  \n",
        "The two columns in the train dataset have the following meaning:   \n",
        "*  accoustic_data: is the accoustic signal measured in the laboratory experiment;  \n",
        "* time to failure: this gives the time until a failure will occurs.\n",
        "\n",
        "Let's plot 1% of the data. For this we will sample every 100 points of data.  "
      ]
    },
    {
      "metadata": {
        "_kg_hide-input": true,
        "trusted": true,
        "_uuid": "206af56767581d8e98777da3b0670e11d4e444bd",
        "scrolled": true,
        "id": "pYAarSgVpfS2",
        "colab_type": "code",
        "outputId": "ac2e567a-a66b-4f46-9b99-82fada1ed1ea",
        "colab": {
          "base_uri": "https://localhost:8080/",
          "height": 498
        }
      },
      "cell_type": "code",
      "source": [
        "train_ad_sample_df = train_df['acoustic_data'].values[::100]\n",
        "train_ttf_sample_df = train_df['time_to_failure'].values[::100]\n",
        "\n",
        "def plot_acc_ttf_data(train_ad_sample_df, train_ttf_sample_df, title=\"Acoustic data and time to failure: 1% sampled data\"):\n",
        "    fig, ax1 = plt.subplots(figsize=(12, 8))\n",
        "    plt.title(title)\n",
        "    plt.plot(train_ad_sample_df, color='r')\n",
        "    ax1.set_ylabel('acoustic data', color='r')\n",
        "    plt.legend(['acoustic data'], loc=(0.01, 0.95))\n",
        "    ax2 = ax1.twinx()\n",
        "    plt.plot(train_ttf_sample_df, color='b')\n",
        "    ax2.set_ylabel('time to failure', color='b')\n",
        "    plt.legend(['time to failure'], loc=(0.01, 0.9))\n",
        "    plt.grid(True)\n",
        "\n",
        "plot_acc_ttf_data(train_ad_sample_df, train_ttf_sample_df)\n",
        "del train_ad_sample_df\n",
        "del train_ttf_sample_df"
      ],
      "execution_count": 53,
      "outputs": [
        {
          "output_type": "display_data",
          "data": {
            "image/png": "[encoded data removed]",
            "text/plain": [
              "<Figure size 864x576 with 2 Axes>"
            ]
          },
          "metadata": {
            "tags": []
          }
        }
      ]
    },
    {
      "metadata": {
        "_uuid": "36c363a5f2e56e54c8ffddd802aa86d91c61d97f",
        "id": "0D-C-cSrpfS4",
        "colab_type": "text"
      },
      "cell_type": "markdown",
      "source": [
        "The plot shows only 1% of the full data. \n",
        "The acoustic data shows complex oscilations with variable amplitude. Just before each failure there is an increase in the amplitude of the acoustic data. We see that large amplitudes are also obtained at different moments in time (for example about the mid-time between two succesive failures).  \n",
        "\n",
        "Let's plot as well the first 1% of the data."
      ]
    },
    {
      "metadata": {
        "_kg_hide-input": true,
        "trusted": true,
        "_uuid": "845e5a241e545d73cfb1dbaea2cfa464faf8148a",
        "id": "hBl8ycYcpfS5",
        "colab_type": "code",
        "outputId": "eabc0fcb-6b56-406d-8fa5-77a53e26f298",
        "colab": {
          "base_uri": "https://localhost:8080/",
          "height": 498
        }
      },
      "cell_type": "code",
      "source": [
        "train_ad_sample_df = train_df['acoustic_data'].values[:6291455]\n",
        "train_ttf_sample_df = train_df['time_to_failure'].values[:6291455]\n",
        "plot_acc_ttf_data(train_ad_sample_df, train_ttf_sample_df, title=\"Acoustic data and time to failure: 1% of data\")\n",
        "del train_ad_sample_df\n",
        "del train_ttf_sample_df"
      ],
      "execution_count": 54,
      "outputs": [
        {
          "output_type": "display_data",
          "data": {
            "image/png": "[encoded data removed]",
            "text/plain": [
              "<Figure size 864x576 with 2 Axes>"
            ]
          },
          "metadata": {
            "tags": []
          }
        }
      ]
    },
    {
      "metadata": {
        "_uuid": "78948b35358020156422a76c8d60dc132f17417b",
        "id": "S6tEAgWApfS7",
        "colab_type": "text"
      },
      "cell_type": "markdown",
      "source": [
        "On this zoomed-in-time plot we can see that actually the large oscilation before the failure is not quite in the last moment. There are also trains of intense oscilations preceeding the large one and also some oscilations with smaller peaks after the large one. Then, after some minor oscilations, the failure occurs."
      ]
    },
    {
      "metadata": {
        "_uuid": "8dee473309c39d74020b37f2e4863094191c121f",
        "id": "srjqOreQpfS7",
        "colab_type": "text"
      },
      "cell_type": "markdown",
      "source": [
        "# <a id='4'>Features engineering</a>  \n",
        "\n",
        "The test segments are 150,000 each.   \n",
        "We split the train data in segments of the same dimmension with the test sets.\n",
        "\n",
        "We will create additional aggregation features, calculated on the segments. \n"
      ]
    },
    {
      "metadata": {
        "_kg_hide-input": true,
        "trusted": true,
        "_uuid": "abcf886f07660f12d170a2182675e15efffefde0",
        "id": "_bMpf7ydpfS8",
        "colab_type": "code",
        "outputId": "3498a394-9202-46d8-a8e6-ccec8a600220",
        "colab": {
          "base_uri": "https://localhost:8080/",
          "height": 34
        }
      },
      "cell_type": "code",
      "source": [
        "rows = 150000\n",
        "segments = int(np.floor(train_df.shape[0] / rows))\n",
        "print(\"Number of segments: \", segments)"
      ],
      "execution_count": 55,
      "outputs": [
        {
          "output_type": "stream",
          "text": [
            "Number of segments:  4194\n"
          ],
          "name": "stdout"
        }
      ]
    },
    {
      "metadata": {
        "_uuid": "0cec83d75c3498355fb232c33ef43dcd2017f24e",
        "id": "yNEjf8DIpfTB",
        "colab_type": "text"
      },
      "cell_type": "markdown",
      "source": [
        "## Process train file\n",
        "\n",
        "Reshape DataFrame so that on acoustic_data is considered as features and each row represents one sample with 150000 features"
      ]
    },
    {
      "metadata": {
        "id": "h82X1B_uhMXT",
        "colab_type": "code",
        "colab": {}
      },
      "cell_type": "code",
      "source": [
        "train_X = pd.DataFrame(np.reshape(train_df.loc[:(segments*rows)-1, 'acoustic_data'].values, (segments, rows)))\n",
        "train_Y = train_df.loc[rows::rows, 'time_to_failure']\n",
        "\n",
        "del train_df"
      ],
      "execution_count": 0,
      "outputs": []
    },
    {
      "metadata": {
        "id": "Ug46_5bOy1yj",
        "colab_type": "code",
        "colab": {}
      },
      "cell_type": "code",
      "source": [
        "train_X.head(10)"
      ],
      "execution_count": 0,
      "outputs": []
    },
    {
      "metadata": {
        "_uuid": "500232cf8ff46fd1d0a9a43088c815d9624a222a",
        "id": "_CNsoulTpfTW",
        "colab_type": "text"
      },
      "cell_type": "markdown",
      "source": [
        "## Check submission file\n"
      ]
    },
    {
      "metadata": {
        "_kg_hide-input": true,
        "trusted": true,
        "_uuid": "38e67f8e457d7c7ce4900b454d3d4a1ab5c42d04",
        "id": "l9wzIMJYpfTX",
        "colab_type": "code",
        "colab": {}
      },
      "cell_type": "code",
      "source": [
        "submission = pd.read_csv(os.path.join(ROOT, 'sample_submission.csv'), index_col='seg_id')\n",
        "submission.head(10)"
      ],
      "execution_count": 0,
      "outputs": []
    },
    {
      "metadata": {
        "_uuid": "2bb7ba0d1ec723be641adf5f925c24237c9198c0",
        "id": "hKjs1V_VpfTj",
        "colab_type": "text"
      },
      "cell_type": "markdown",
      "source": [
        "\n",
        "# <a id='5'>Model</a>  \n",
        "\n",
        "Let's prepare the model.\n",
        "\n",
        "## Run model\n",
        "\n",
        "We define the folds for cross-validation."
      ]
    },
    {
      "metadata": {
        "_kg_hide-input": true,
        "trusted": true,
        "_uuid": "99d43c789dde8cac37270dc16430cf98870788d3",
        "id": "I5P4Yi-NpfTk",
        "colab_type": "code",
        "colab": {}
      },
      "cell_type": "code",
      "source": [
        "n_fold = 5\n",
        "folds = KFold(n_splits=n_fold, shuffle=True, random_state=42)\n"
      ],
      "execution_count": 0,
      "outputs": []
    },
    {
      "metadata": {
        "id": "7ihFendhl6xH",
        "colab_type": "code",
        "colab": {}
      },
      "cell_type": "code",
      "source": [
        "from tensorflow.keras.callbacks import EarlyStopping, ModelCheckpoint, TensorBoard\n",
        "from tensorflow.keras.layers import LSTM, Bidirectional, Dropout, Dense, Conv1D, MaxPool1D, BatchNormalization\n",
        "from tensorflow.keras.models import Sequential\n",
        "from tensorflow.keras.regularizers import l2\n",
        "\n",
        "def create_model():\n",
        "  return Sequential([\n",
        "    LSTM(64),\n",
        "    BatchNormalization(),\n",
        "    Dense(1)\n",
        "  ])"
      ],
      "execution_count": 0,
      "outputs": []
    },
    {
      "metadata": {
        "id": "-HuR8mL0oB6n",
        "colab_type": "code",
        "colab": {}
      },
      "cell_type": "code",
      "source": [
        "def create_and_train_model(X_tr, X_val, y_tr, y_val):\n",
        "    model = create_model()\n",
        "    model.compile(loss='mean_absolute_error', optimizer='adam')\n",
        "    \n",
        "    logdir = os.path.join(\"logs\", datetime.datetime.now().strftime(\"%Y%m%d-%H%M%S\"))\n",
        " \n",
        "    \n",
        "    model.fit(X_tr,\n",
        "                y_tr,\n",
        "                epochs=1,\n",
        "                verbose=True,\n",
        "                validation_data=(X_val, y_val),\n",
        "                callbacks=[\n",
        "                    EarlyStopping(monitor='val_loss', min_delta=0, patience=5, verbose=0, mode='auto'),\n",
        "                    ModelCheckpoint('/content/models/weights.{epoch:02d}-{val_loss:.2f}.hdf5', monitor='val_loss', verbose=0, save_best_only=True, save_weights_only=False, mode='auto', period=1),\n",
        "                    TensorBoard(logdir, histogram_freq=1)\n",
        "                  ]\n",
        "             )\n",
        "    return model"
      ],
      "execution_count": 0,
      "outputs": []
    },
    {
      "metadata": {
        "id": "9mQh5RbnOjtk",
        "colab_type": "text"
      },
      "cell_type": "markdown",
      "source": [
        "## Predicting test in batches\n",
        "Test files are in total to big to fit on GPU, so loading them in batches, predicting and afterwards deleting those objects."
      ]
    },
    {
      "metadata": {
        "id": "HSf-H3h75BP_",
        "colab_type": "code",
        "colab": {}
      },
      "cell_type": "code",
      "source": [
        "test_paths = glob.glob(os.path.join(ROOT, \"test/*.csv\"))\n",
        "\n",
        "def predict_in_batches(model, test_batch_size=16):\n",
        "    batches = [test_paths[i:i+test_batch_size] for i in range(0, len(test_paths), test_batch_size)]\n",
        "    for batch in batches:\n",
        "      X_test = pd.concat([pd.read_csv(f) for f in batch], axis=1, ignore_index=True).T.values\n",
        "      reshaped_X_test = np.reshape(X_test, (X_test.shape[0], 1, X_test.shape[1]))\n",
        "      predictions = model.predict(reshaped_X_test) / folds.n_splits\n",
        "      for (i, f) in enumerate(batch): \n",
        "        submission.loc[Path(f).stem, 'time_to_failure'] += predictions[i]\n",
        "      del reshaped_X_test\n"
      ],
      "execution_count": 0,
      "outputs": []
    },
    {
      "metadata": {
        "id": "4jpmC9nUoNHe",
        "colab_type": "code",
        "colab": {
          "base_uri": "https://localhost:8080/",
          "height": 85
        },
        "outputId": "5343a3cd-7c42-460d-c48f-fcca06f3197b"
      },
      "cell_type": "code",
      "source": [
        "#X_tr, X_val = tf.convert_to_tensor(train_X.values[0:5], dtype=tf.float32),  tf.convert_to_tensor(train_X.values[0:5], dtype=tf.float32)\n",
        "#y_tr, y_val = train_Y.values, train_Y.values\n",
        "\n",
        "#X_tr = np.reshape(X_tr, (X_tr.shape[0], 1, X_tr.shape[1]))\n",
        "#X_val = np.reshape(X_val, (X_val.shape[0], 1, X_val.shape[1]))\n",
        "\n",
        "#create_and_train_model(X_tr, X_val, y_tr, y_val)   "
      ],
      "execution_count": 44,
      "outputs": [
        {
          "output_type": "stream",
          "text": [
            "Train on 5 samples, validate on 5 samples\n"
          ],
          "name": "stdout"
        },
        {
          "output_type": "stream",
          "text": [
            "W0320 22:15:40.213555 139761960740736 tf_logging.py:161] Trace already enabled\n"
          ],
          "name": "stderr"
        },
        {
          "output_type": "stream",
          "text": [
            "\r5/5 [==============================] - 1s 250ms/sample - loss: 2.1159 - val_loss: 1.4958\n"
          ],
          "name": "stdout"
        },
        {
          "output_type": "execute_result",
          "data": {
            "text/plain": [
              "<tensorflow.python.keras.engine.sequential.Sequential at 0x7f1c22a05240>"
            ]
          },
          "metadata": {
            "tags": []
          },
          "execution_count": 44
        }
      ]
    },
    {
      "metadata": {
        "_uuid": "5f5e691c0c52f7adfb13064794c7bf2600f07f39",
        "id": "bvOuHBCkpfTn",
        "colab_type": "text"
      },
      "cell_type": "markdown",
      "source": [
        "We run the model. During training for each fold, we validate using the validation set and also we predict using the current model for test set. The final result will be the average over the all folds for the predictions done at each fold training."
      ]
    },
    {
      "metadata": {
        "id": "MPYtuPa_PeYd",
        "colab_type": "code",
        "colab": {
          "base_uri": "https://localhost:8080/",
          "height": 589
        },
        "outputId": "7e32ceae-6a5d-4374-d0d5-590f76fe8c64"
      },
      "cell_type": "code",
      "source": [
        "for fold_, (trn_idx, val_idx) in enumerate(folds.split(train_X,train_Y.values)):\n",
        "    print(\"fold {}\".format(fold_))\n",
        "    \n",
        "    X_tr, X_val = tf.convert_to_tensor(train_X.iloc[trn_idx].values, dtype=tf.float32), tf.convert_to_tensor(train_X.iloc[val_idx].values, dtype=tf.float32)\n",
        "    y_tr, y_val = train_Y.iloc[trn_idx].values, train_Y.iloc[val_idx].values\n",
        "  \n",
        "    X_tr = np.reshape(X_tr, (X_tr.shape[0], 1, X_tr.shape[1]))\n",
        "    X_val = np.reshape(X_val, (X_val.shape[0], 1, X_val.shape[1]))\n",
        "    create_and_train_model(X_tr, X_val, y_tr, y_val)   "
      ],
      "execution_count": 45,
      "outputs": [
        {
          "output_type": "error",
          "ename": "ValueError",
          "evalue": "ignored",
          "traceback": [
            "\u001b[0;31m---------------------------------------------------------------------------\u001b[0m",
            "\u001b[0;31mValueError\u001b[0m                                Traceback (most recent call last)",
            "\u001b[0;32m<ipython-input-45-bda2df43e604>\u001b[0m in \u001b[0;36m<module>\u001b[0;34m()\u001b[0m\n\u001b[0;32m----> 1\u001b[0;31m \u001b[0;32mfor\u001b[0m \u001b[0mfold_\u001b[0m\u001b[0;34m,\u001b[0m \u001b[0;34m(\u001b[0m\u001b[0mtrn_idx\u001b[0m\u001b[0;34m,\u001b[0m \u001b[0mval_idx\u001b[0m\u001b[0;34m)\u001b[0m \u001b[0;32min\u001b[0m \u001b[0menumerate\u001b[0m\u001b[0;34m(\u001b[0m\u001b[0mfolds\u001b[0m\u001b[0;34m.\u001b[0m\u001b[0msplit\u001b[0m\u001b[0;34m(\u001b[0m\u001b[0mtrain_X\u001b[0m\u001b[0;34m,\u001b[0m\u001b[0mtrain_Y\u001b[0m\u001b[0;34m.\u001b[0m\u001b[0mvalues\u001b[0m\u001b[0;34m)\u001b[0m\u001b[0;34m)\u001b[0m\u001b[0;34m:\u001b[0m\u001b[0;34m\u001b[0m\u001b[0;34m\u001b[0m\u001b[0m\n\u001b[0m\u001b[1;32m      2\u001b[0m     \u001b[0mprint\u001b[0m\u001b[0;34m(\u001b[0m\u001b[0;34m\"fold {}\"\u001b[0m\u001b[0;34m.\u001b[0m\u001b[0mformat\u001b[0m\u001b[0;34m(\u001b[0m\u001b[0mfold_\u001b[0m\u001b[0;34m)\u001b[0m\u001b[0;34m)\u001b[0m\u001b[0;34m\u001b[0m\u001b[0;34m\u001b[0m\u001b[0m\n\u001b[1;32m      3\u001b[0m \u001b[0;34m\u001b[0m\u001b[0m\n\u001b[1;32m      4\u001b[0m     \u001b[0mX_tr\u001b[0m\u001b[0;34m,\u001b[0m \u001b[0mX_val\u001b[0m \u001b[0;34m=\u001b[0m \u001b[0mtf\u001b[0m\u001b[0;34m.\u001b[0m\u001b[0mconvert_to_tensor\u001b[0m\u001b[0;34m(\u001b[0m\u001b[0mtrain_X\u001b[0m\u001b[0;34m.\u001b[0m\u001b[0miloc\u001b[0m\u001b[0;34m[\u001b[0m\u001b[0mtrn_idx\u001b[0m\u001b[0;34m]\u001b[0m\u001b[0;34m.\u001b[0m\u001b[0mvalues\u001b[0m\u001b[0;34m,\u001b[0m \u001b[0mdtype\u001b[0m\u001b[0;34m=\u001b[0m\u001b[0mtf\u001b[0m\u001b[0;34m.\u001b[0m\u001b[0mfloat32\u001b[0m\u001b[0;34m)\u001b[0m\u001b[0;34m,\u001b[0m \u001b[0mtf\u001b[0m\u001b[0;34m.\u001b[0m\u001b[0mconvert_to_tensor\u001b[0m\u001b[0;34m(\u001b[0m\u001b[0mtrain_X\u001b[0m\u001b[0;34m.\u001b[0m\u001b[0miloc\u001b[0m\u001b[0;34m[\u001b[0m\u001b[0mval_idx\u001b[0m\u001b[0;34m]\u001b[0m\u001b[0;34m.\u001b[0m\u001b[0mvalues\u001b[0m\u001b[0;34m,\u001b[0m \u001b[0mdtype\u001b[0m\u001b[0;34m=\u001b[0m\u001b[0mtf\u001b[0m\u001b[0;34m.\u001b[0m\u001b[0mfloat32\u001b[0m\u001b[0;34m)\u001b[0m\u001b[0;34m\u001b[0m\u001b[0;34m\u001b[0m\u001b[0m\n\u001b[1;32m      5\u001b[0m     \u001b[0my_tr\u001b[0m\u001b[0;34m,\u001b[0m \u001b[0my_val\u001b[0m \u001b[0;34m=\u001b[0m \u001b[0mtrain_Y\u001b[0m\u001b[0;34m.\u001b[0m\u001b[0miloc\u001b[0m\u001b[0;34m[\u001b[0m\u001b[0mtrn_idx\u001b[0m\u001b[0;34m]\u001b[0m\u001b[0;34m.\u001b[0m\u001b[0mvalues\u001b[0m\u001b[0;34m,\u001b[0m \u001b[0mtrain_Y\u001b[0m\u001b[0;34m.\u001b[0m\u001b[0miloc\u001b[0m\u001b[0;34m[\u001b[0m\u001b[0mval_idx\u001b[0m\u001b[0;34m]\u001b[0m\u001b[0;34m.\u001b[0m\u001b[0mvalues\u001b[0m\u001b[0;34m\u001b[0m\u001b[0;34m\u001b[0m\u001b[0m\n",
            "\u001b[0;32m/usr/local/lib/python3.6/dist-packages/sklearn/model_selection/_split.py\u001b[0m in \u001b[0;36msplit\u001b[0;34m(self, X, y, groups)\u001b[0m\n\u001b[1;32m    321\u001b[0m             \u001b[0mThe\u001b[0m \u001b[0mtesting\u001b[0m \u001b[0mset\u001b[0m \u001b[0mindices\u001b[0m \u001b[0;32mfor\u001b[0m \u001b[0mthat\u001b[0m \u001b[0msplit\u001b[0m\u001b[0;34m.\u001b[0m\u001b[0;34m\u001b[0m\u001b[0;34m\u001b[0m\u001b[0m\n\u001b[1;32m    322\u001b[0m         \"\"\"\n\u001b[0;32m--> 323\u001b[0;31m         \u001b[0mX\u001b[0m\u001b[0;34m,\u001b[0m \u001b[0my\u001b[0m\u001b[0;34m,\u001b[0m \u001b[0mgroups\u001b[0m \u001b[0;34m=\u001b[0m \u001b[0mindexable\u001b[0m\u001b[0;34m(\u001b[0m\u001b[0mX\u001b[0m\u001b[0;34m,\u001b[0m \u001b[0my\u001b[0m\u001b[0;34m,\u001b[0m \u001b[0mgroups\u001b[0m\u001b[0;34m)\u001b[0m\u001b[0;34m\u001b[0m\u001b[0;34m\u001b[0m\u001b[0m\n\u001b[0m\u001b[1;32m    324\u001b[0m         \u001b[0mn_samples\u001b[0m \u001b[0;34m=\u001b[0m \u001b[0m_num_samples\u001b[0m\u001b[0;34m(\u001b[0m\u001b[0mX\u001b[0m\u001b[0;34m)\u001b[0m\u001b[0;34m\u001b[0m\u001b[0;34m\u001b[0m\u001b[0m\n\u001b[1;32m    325\u001b[0m         \u001b[0;32mif\u001b[0m \u001b[0mself\u001b[0m\u001b[0;34m.\u001b[0m\u001b[0mn_splits\u001b[0m \u001b[0;34m>\u001b[0m \u001b[0mn_samples\u001b[0m\u001b[0;34m:\u001b[0m\u001b[0;34m\u001b[0m\u001b[0;34m\u001b[0m\u001b[0m\n",
            "\u001b[0;32m/usr/local/lib/python3.6/dist-packages/sklearn/utils/validation.py\u001b[0m in \u001b[0;36mindexable\u001b[0;34m(*iterables)\u001b[0m\n\u001b[1;32m    258\u001b[0m         \u001b[0;32melse\u001b[0m\u001b[0;34m:\u001b[0m\u001b[0;34m\u001b[0m\u001b[0;34m\u001b[0m\u001b[0m\n\u001b[1;32m    259\u001b[0m             \u001b[0mresult\u001b[0m\u001b[0;34m.\u001b[0m\u001b[0mappend\u001b[0m\u001b[0;34m(\u001b[0m\u001b[0mnp\u001b[0m\u001b[0;34m.\u001b[0m\u001b[0marray\u001b[0m\u001b[0;34m(\u001b[0m\u001b[0mX\u001b[0m\u001b[0;34m)\u001b[0m\u001b[0;34m)\u001b[0m\u001b[0;34m\u001b[0m\u001b[0;34m\u001b[0m\u001b[0m\n\u001b[0;32m--> 260\u001b[0;31m     \u001b[0mcheck_consistent_length\u001b[0m\u001b[0;34m(\u001b[0m\u001b[0;34m*\u001b[0m\u001b[0mresult\u001b[0m\u001b[0;34m)\u001b[0m\u001b[0;34m\u001b[0m\u001b[0;34m\u001b[0m\u001b[0m\n\u001b[0m\u001b[1;32m    261\u001b[0m     \u001b[0;32mreturn\u001b[0m \u001b[0mresult\u001b[0m\u001b[0;34m\u001b[0m\u001b[0;34m\u001b[0m\u001b[0m\n\u001b[1;32m    262\u001b[0m \u001b[0;34m\u001b[0m\u001b[0m\n",
            "\u001b[0;32m/usr/local/lib/python3.6/dist-packages/sklearn/utils/validation.py\u001b[0m in \u001b[0;36mcheck_consistent_length\u001b[0;34m(*arrays)\u001b[0m\n\u001b[1;32m    233\u001b[0m     \u001b[0;32mif\u001b[0m \u001b[0mlen\u001b[0m\u001b[0;34m(\u001b[0m\u001b[0muniques\u001b[0m\u001b[0;34m)\u001b[0m \u001b[0;34m>\u001b[0m \u001b[0;36m1\u001b[0m\u001b[0;34m:\u001b[0m\u001b[0;34m\u001b[0m\u001b[0;34m\u001b[0m\u001b[0m\n\u001b[1;32m    234\u001b[0m         raise ValueError(\"Found input variables with inconsistent numbers of\"\n\u001b[0;32m--> 235\u001b[0;31m                          \" samples: %r\" % [int(l) for l in lengths])\n\u001b[0m\u001b[1;32m    236\u001b[0m \u001b[0;34m\u001b[0m\u001b[0m\n\u001b[1;32m    237\u001b[0m \u001b[0;34m\u001b[0m\u001b[0m\n",
            "\u001b[0;31mValueError\u001b[0m: Found input variables with inconsistent numbers of samples: [6, 5]"
          ]
        }
      ]
    },
    {
      "metadata": {
        "id": "ZRf-d15-0pdK",
        "colab_type": "code",
        "colab": {}
      },
      "cell_type": "code",
      "source": [
        "predict_in_batches(model)\n"
      ],
      "execution_count": 0,
      "outputs": []
    },
    {
      "metadata": {
        "_uuid": "cc8966810c47ae092a300dbb3a5ec582c9740b8f",
        "id": "QBX5hugapfTq",
        "colab_type": "text"
      },
      "cell_type": "markdown",
      "source": [
        "## Features importance\n",
        "\n",
        "Let's print features importance."
      ]
    },
    {
      "metadata": {
        "_uuid": "0fce1845bdc118dea09c917d2322c840426e34e1",
        "id": "glIeyLofpfTs",
        "colab_type": "text"
      },
      "cell_type": "markdown",
      "source": [
        "# <a id='6'>Submission</a>  \n",
        "\n",
        "We set the predicted time to failure in the submission file."
      ]
    },
    {
      "metadata": {
        "trusted": true,
        "_uuid": "641d4feeb57e87e24c3f4bc29863c35169f9302f",
        "_kg_hide-input": true,
        "id": "RbQoUDompfTt",
        "colab_type": "code",
        "colab": {}
      },
      "cell_type": "code",
      "source": [
        "submission.to_csv('submission.csv',index=True)"
      ],
      "execution_count": 0,
      "outputs": []
    }
  ]
}